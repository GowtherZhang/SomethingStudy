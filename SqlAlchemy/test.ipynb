{
 "cells": [
  {
   "cell_type": "code",
   "execution_count": 2,
   "metadata": {},
   "outputs": [],
   "source": [
    "import pandas as pd\n",
    "\n",
    "data = {\n",
    "    'id': [1, 2, 3],\n",
    "    'name': ['John', 'Alice', 'Bob'],\n",
    "    'phone': ['123456789', '987654321', '555555555'],\n",
    "    'weight': [70.5, 65.2, 80.0]\n",
    "}\n",
    "\n",
    "df = pd.DataFrame(data)\n",
    "df['id'] = df['id'].astype(int)\n",
    "df['name'] = df['name'].astype(str)\n",
    "df['phone'] = df['phone'].astype(str)\n",
    "df['weight'] = df['weight'].astype(float)"
   ]
  }
 ],
 "metadata": {
  "kernelspec": {
   "display_name": "Python 3",
   "language": "python",
   "name": "python3"
  },
  "language_info": {
   "codemirror_mode": {
    "name": "ipython",
    "version": 3
   },
   "file_extension": ".py",
   "mimetype": "text/x-python",
   "name": "python",
   "nbconvert_exporter": "python",
   "pygments_lexer": "ipython3",
   "version": "3.10.0"
  },
  "orig_nbformat": 4
 },
 "nbformat": 4,
 "nbformat_minor": 2
}
